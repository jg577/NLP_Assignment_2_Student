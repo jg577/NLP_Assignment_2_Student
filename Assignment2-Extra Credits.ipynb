{
 "cells": [
  {
   "cell_type": "markdown",
   "metadata": {},
   "source": [
    "# Loss function:"
   ]
  },
  {
   "cell_type": "markdown",
   "metadata": {},
   "source": [
    "\\begin{align*}\n",
    "J_{naive-softmax(\\mathbf{v_c}, o, \\mathbf{U})} = -\\mathbf{u_o}^{T}\\mathbf{v_c} + \\log\\left(\\sum_{w \\in Vocab} exp \\left(\\mathbf{u_w}^{T}\\mathbf{v}_c\\right)\\right)\n",
    "\\end{align*}\n"
   ]
  },
  {
   "cell_type": "markdown",
   "metadata": {},
   "source": [
    "# Optional Credit Problem 1:"
   ]
  },
  {
   "cell_type": "markdown",
   "metadata": {},
   "source": [
    "\\begin{align*}\n",
    "\\frac{\\partial J}{\\partial \\mathbf{v}_c} &= \\frac{\\partial - \\mathbf{u_o}^{T}\\mathbf{v_c}}{\\partial \\mathbf{v}_c} + \\frac{\\partial \\log\\left(\\sum_{w \\in Vocab} exp \\left(\\mathbf{u_w}^{T}\\mathbf{v}_c\\right)\\right)}{\\partial \\mathbf{v}_c} \\\\\n",
    "&= - \\mathbf{u_o} + \\frac{1}{\\sum_{w \\in Vocab} exp \\left(\\mathbf{u_w}^{T}\\mathbf{v}_c\\right)}.\\frac{\\partial \\left(\\sum_{x \\in Vocab} exp \\left(\\mathbf{u_x}^{T}\\mathbf{v}_c\\right)\\right) } {\\partial \\mathbf{v}_c}  \\qquad  (1)\\\\\n",
    "&= - \\mathbf{u_o} + \\frac{1}{\\sum_{w \\in Vocab} exp \\left(\\mathbf{u_w}^{T}\\mathbf{v}_c\\right)}.\\sum_{x \\in Vocab}\\frac{\\partial \\left( exp \\left(\\mathbf{u_x}^{T}\\mathbf{v}_c\\right)\\right) } {\\partial \\mathbf{v}_c}  \\qquad  (2)\\\\\n",
    "&= - \\mathbf{u_o} + \\frac{1}{\\sum_{w \\in Vocab} exp \\left(\\mathbf{u_w}^{T}\\mathbf{v}_c\\right)}.\\sum_{x \\in Vocab} exp \\left(\\mathbf{u_x}^{T}\\mathbf{v}_c\\right) . \\frac{\\partial \\mathbf{u_x}^{T}\\mathbf{v}_c}{\\partial \\mathbf{v}_c} \\qquad (3) \\\\\n",
    "&= - \\mathbf{u_o} + \\frac{1}{\\sum_{w \\in Vocab} exp \\left(\\mathbf{u_w}^{T}\\mathbf{v}_c\\right)}.\\sum_{x \\in Vocab} exp \\left(\\mathbf{u_x}^{T}\\mathbf{v}_c\\right) . \\mathbf{u_x} \\qquad (4) \\\\\n",
    "&= - \\mathbf{u_o} + \\sum_{x \\in Vocab} \\frac{exp \\left(\\mathbf{u_x}^{T}\\mathbf{v}_c\\right)}{\\sum_{w \\in Vocab} exp \\left(\\mathbf{u_w}^{T}\\mathbf{v}_c\\right)} . \\mathbf{u_x} \\qquad (5) \\\\\n",
    "&= - \\mathbf{u_o} + \\sum_{x \\in Vocab} P\\left(O=x | C=c\\right) . \\mathbf{u_x} \\qquad (6) \\\\\n",
    "&= - \\mathbf{u_o} + \\sum_{w \\in Vocab} P\\left(O=w | C=c\\right) . \\mathbf{u_w} \\qquad (7) \\\\\n",
    "&= - \\mathbf{u_o} + \\sum_{w \\in Vocab} \\hat{y}_{w} . \\mathbf{u_w} \\qquad (8) \\\\\n",
    "\\end{align*}"
   ]
  },
  {
   "cell_type": "markdown",
   "metadata": {},
   "source": [
    "Q.E.D"
   ]
  },
  {
   "cell_type": "markdown",
   "metadata": {},
   "source": [
    "##  Explanation"
   ]
  },
  {
   "cell_type": "markdown",
   "metadata": {},
   "source": [
    "1. Chain rule on $\\frac{d(log(f(x)}{d(x)}= \\frac{1}{f(x)}.\\frac{d(f(x)}{d(x)}$\n",
    "2. Sum rule in differentiation\n",
    "3. Chain rule on $\\frac{d(exp(f(x))}{d(x)} = exp(f(x)).\\frac{d(f(x))}{d(x)}$\n",
    "4. Obvious\n",
    "5. Rearranging to make the inner sum to outer sum.\n",
    "6. By definition\n",
    "7. Switching variables from $x$ to $w$ to get the desired subscripts\n",
    "8. By definition"
   ]
  },
  {
   "cell_type": "markdown",
   "metadata": {},
   "source": [
    "# Optional Credit Problem 2:"
   ]
  },
  {
   "cell_type": "markdown",
   "metadata": {},
   "source": [
    "\\begin{align*}\n",
    "\\frac{\\partial J}{\\partial \\mathbf{u}_w} &= \\frac{\\partial \\left(- \\mathbf{u}_{o}^{T}\\mathbf{v_c}\\right)}{\\partial \\mathbf{u}_w} + \\frac{\\partial \\log\\left(\\sum_{w \\in Vocab} exp \\left(\\mathbf{u}_{w}^{T}\\mathbf{v}_c\\right)\\right)}{\\partial \\mathbf{u}_w} \\\\\n",
    "&= \\frac{\\partial \\left(- \\mathbf{u}_{o}^{T}\\mathbf{v_c}\\right)}{\\partial \\mathbf{u}_w} + \\frac{1}{\\sum_{w \\in Vocab} exp \\left(\\mathbf{u_w}^{T}\\mathbf{v}_c\\right)}.\\frac{\\partial \\left(\\sum_{x \\in Vocab} exp \\left(\\mathbf{u_x}^{T}\\mathbf{v}_c\\right)\\right) } {\\partial \\mathbf{u}_w}  \\qquad  (1)\\\\\n",
    "&= \\frac{\\partial \\left(- \\mathbf{u}_{o}^{T}\\mathbf{v_c}\\right)}{\\partial \\mathbf{u}_w} + \\frac{1}{\\sum_{w \\in Vocab} exp \\left(\\mathbf{u_w}^{T}\\mathbf{v}_c\\right)}.\\sum_{x \\in Vocab}\\frac{\\partial \\left( exp \\left(\\mathbf{u_x}^{T}\\mathbf{v}_c\\right)\\right) } {\\partial \\mathbf{u}_w}  \\qquad  (2)\\\\\n",
    "&= \\frac{\\partial \\left(- \\mathbf{u}_{o}^{T}\\mathbf{v_c}\\right)}{\\partial \\mathbf{u}_w} + \\frac{1}{\\sum_{w \\in Vocab} exp \\left(\\mathbf{u_w}^{T}\\mathbf{v}_c\\right)}.\\sum_{x \\in Vocab} exp \\left(\\mathbf{u_x}^{T}\\mathbf{v}_c\\right) . \\frac{\\partial \\mathbf{u_x}^{T}\\mathbf{v}_c}{\\partial \\mathbf{u}_w} \\qquad (3) \\\\\n",
    "&= \\frac{\\partial \\left(- \\mathbf{u}_{o}^{T}\\mathbf{v_c}\\right)}{\\partial \\mathbf{u}_w} + \\sum_{x \\in Vocab}\\frac{exp \\left(\\mathbf{u_x}^{T}\\mathbf{v}_c\\right)}{\\sum_{w \\in Vocab} exp \\left(\\mathbf{u_w}^{T}\\mathbf{v}_c\\right)}. \\frac{\\partial \\mathbf{u_x}^{T}\\mathbf{v}_c}{\\partial \\mathbf{u}_w} \\qquad (4) \\\\\n",
    "&= \\frac{\\partial \\left(- \\mathbf{u}_{o}^{T}\\mathbf{v_c}\\right)}{\\partial \\mathbf{u}_w} + \\sum_{x \\in Vocab}P(O=x|C=c). \\frac{\\partial \\mathbf{u_x}^{T}\\mathbf{v}_c}{\\partial \\mathbf{u}_w} \\qquad (5) \\\\\n",
    "&= \\frac{\\partial \\left(- \\mathbf{u}_{o}^{T}\\mathbf{v_c}\\right)}{\\partial \\mathbf{u}_w} + \\sum_{x \\in Vocab} \\hat{y}_x. \\frac{\\partial \\mathbf{u_x}^{T}\\mathbf{v}_c}{\\partial \\mathbf{u}_w} \\qquad (6) \\\\\n",
    "\\end{align*}"
   ]
  },
  {
   "cell_type": "markdown",
   "metadata": {},
   "source": [
    "$\\qquad$ Reasoning from 1 to 6 is the same as problem 1."
   ]
  },
  {
   "cell_type": "markdown",
   "metadata": {},
   "source": [
    "Evaluating the second term of the expression, $\\forall x \\neq w, \\frac{\\partial \\mathbf{u}_x.\\mathbf{v}_c}{\\partial \\mathbf{u}_w} = 0$. When $x=w, \\frac{\\partial \\mathbf{u}_x.\\mathbf{v}_c}{\\partial \\mathbf{u}_w} = \\mathbf{v}_c$.\n",
    "\n",
    "So,\n",
    "\n",
    "$\\sum_{x \\in Vocab} \\hat{y}_x. \\frac{\\partial \\mathbf{u_x}^{T}\\mathbf{v}_c}{\\partial \\mathbf{u}_w} = \\hat{y}_w \\mathbf{v}_c$\n"
   ]
  },
  {
   "cell_type": "markdown",
   "metadata": {},
   "source": [
    "As a result,\n",
    "\n",
    "\\begin{align*}\n",
    " \\frac{\\partial J}{\\partial \\mathbf{u}_w} &= \\frac{\\partial \\left(- \\mathbf{u}_{o}^{T}\\mathbf{v_c}\\right)}{\\partial \\mathbf{u}_w} + \\sum_{x \\in Vocab} \\hat{y}_x. \\frac{\\partial \\mathbf{u_x}^{T}\\mathbf{v}_c}{\\partial \\mathbf{u}_w} \\\\\n",
    " &= \\frac{\\partial \\left(- \\mathbf{u}_{o}^{T}\\mathbf{v_c}\\right)}{\\partial \\mathbf{u}_w} + \\hat{y}_w \\mathbf{v}_c\n",
    "\\end{align*}"
   ]
  },
  {
   "cell_type": "markdown",
   "metadata": {},
   "source": [
    "Let's now consider the two cases:\n",
    "\n",
    "Case 1: $w = o$\n",
    "\n",
    "\\begin{align*}\n",
    " \\frac{\\partial J}{\\partial \\mathbf{u}_o} &= \\frac{\\partial \\left(- \\mathbf{u}_{o}^{T}\\mathbf{v_c}\\right)}{\\partial \\mathbf{u}_o} + \\sum_{x \\in Vocab} \\hat{y}_x. \\frac{\\partial \\mathbf{u_x}^{T}\\mathbf{v}_c}{\\partial \\mathbf{u}_o} \\\\\n",
    " &= \\frac{\\partial \\left(- \\mathbf{u}_{o}^{T}\\mathbf{v_c}\\right)}{\\partial \\mathbf{u}_o} + \\hat{y}_w \\mathbf{v}_c \\\\\n",
    " &= -\\mathbf{v}_c + \\hat{y}_w \\mathbf{v}_c \\\\\n",
    " &= (\\hat{y}_w - 1) \\mathbf{v}_c\n",
    "\\end{align*}\n",
    "\n",
    "Case 2: $w \\neq o$\n",
    "\n",
    "\\begin{align*}\n",
    " \\frac{\\partial J}{\\partial \\mathbf{u}_w} &= \\frac{\\partial \\left(- \\mathbf{u}_{o}^{T}\\mathbf{v_c}\\right)}{\\partial \\mathbf{u}_w} + \\hat{y}_w \\mathbf{v}_c \\\\\n",
    " &= 0 + \\hat{y}_w \\mathbf{v}_c \\\\\n",
    " &= \\hat{y}_w \\mathbf{v}_c\n",
    "\\end{align*}"
   ]
  },
  {
   "cell_type": "markdown",
   "metadata": {},
   "source": [
    "Q.E.D"
   ]
  }
 ],
 "metadata": {
  "kernelspec": {
   "display_name": "Python 3",
   "language": "python",
   "name": "python3"
  },
  "language_info": {
   "codemirror_mode": {
    "name": "ipython",
    "version": 3
   },
   "file_extension": ".py",
   "mimetype": "text/x-python",
   "name": "python",
   "nbconvert_exporter": "python",
   "pygments_lexer": "ipython3",
   "version": "3.7.4"
  }
 },
 "nbformat": 4,
 "nbformat_minor": 2
}
